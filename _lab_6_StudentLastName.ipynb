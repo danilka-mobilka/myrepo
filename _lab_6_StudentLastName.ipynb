{
 "cells": [
  {
   "cell_type": "code",
   "execution_count": 60,
   "id": "edd4d172-7efd-4a23-9109-ea32fd37f8b9",
   "metadata": {},
   "outputs": [
    {
     "name": "stdout",
     "output_type": "stream",
     "text": [
      "true\n"
     ]
    }
   ],
   "source": [
    "class Stack:\n",
    "    def __init__(self):\n",
    "        self.items = []\n",
    "    \n",
    "    def isEmpty(self):\n",
    "        return self.items == []\n",
    "    \n",
    "    def push(self, item):\n",
    "        self.items.append(item)\n",
    "    \n",
    "    def pop(self):\n",
    "        return self.items.pop()\n",
    "    \n",
    "    def peek(self):\n",
    "        return self.items[-1]\n",
    "    \n",
    "    def size(self):\n",
    "        return len(self.items)\n",
    "\n",
    "\n",
    "s = Stack()\n",
    "\n",
    "\n",
    "s.push('hello')\n",
    "s.push('true')\n",
    "\n",
    "\n",
    "print(s.pop())\n"
   ]
  },
  {
   "cell_type": "code",
   "execution_count": 62,
   "id": "e7d5cb0c-18be-4a26-ad47-089efae8f7b3",
   "metadata": {},
   "outputs": [
    {
     "name": "stdout",
     "output_type": "stream",
     "text": [
      "hello\n"
     ]
    }
   ],
   "source": [
    "print(s.pop())"
   ]
  },
  {
   "cell_type": "code",
   "execution_count": 64,
   "id": "21bc32ac-d8b4-4b94-89de-d40fbf0d2c00",
   "metadata": {},
   "outputs": [
    {
     "name": "stdout",
     "output_type": "stream",
     "text": [
      "True\n",
      "False\n",
      "1\n",
      "2\n",
      "0\n"
     ]
    }
   ],
   "source": [
    "class Queue:\n",
    "    def __init__(self):\n",
    "        self.items = []\n",
    "\n",
    "    def isEmpty(self):\n",
    "        return self.items == []\n",
    "\n",
    "    def enqueue(self, item):\n",
    "        self.items.insert(0, item)  \n",
    "\n",
    "    def dequeue(self):\n",
    "        if not self.isEmpty():\n",
    "            return self.items.pop() \n",
    "\n",
    "    def size(self):\n",
    "        return len(self.items)  \n",
    "\n",
    "\n",
    "q = Queue()\n",
    "\n",
    "\n",
    "print(q.isEmpty())  \n",
    "\n",
    "\n",
    "q.enqueue(2)\n",
    "\n",
    "\n",
    "print(q.isEmpty())  \n",
    "\n",
    "\n",
    "print(q.size()) \n",
    "\n",
    "\n",
    "print(q.dequeue())  \n",
    "\n",
    "\n",
    "print(q.size()) \n"
   ]
  },
  {
   "cell_type": "code",
   "execution_count": 66,
   "id": "991ba6b9-ee4e-45ff-9571-7195759974d9",
   "metadata": {},
   "outputs": [
    {
     "name": "stdout",
     "output_type": "stream",
     "text": [
      "[]\n"
     ]
    }
   ],
   "source": [
    "print(q.items)"
   ]
  },
  {
   "cell_type": "code",
   "execution_count": null,
   "id": "88a7553b-8035-4c79-b874-5ea82034d16d",
   "metadata": {},
   "outputs": [],
   "source": []
  }
 ],
 "metadata": {
  "kernelspec": {
   "display_name": "anaconda-2022.05-py39",
   "language": "python",
   "name": "conda-env-anaconda-2022.05-py39-py"
  },
  "language_info": {
   "codemirror_mode": {
    "name": "ipython",
    "version": 3
   },
   "file_extension": ".py",
   "mimetype": "text/x-python",
   "name": "python",
   "nbconvert_exporter": "python",
   "pygments_lexer": "ipython3",
   "version": "3.9.12"
  }
 },
 "nbformat": 4,
 "nbformat_minor": 5
}
