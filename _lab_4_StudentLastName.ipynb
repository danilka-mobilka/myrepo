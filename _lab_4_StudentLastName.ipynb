{
 "cells": [
  {
   "cell_type": "code",
   "execution_count": 7,
   "id": "8a3e1be8-8003-483e-ba35-5e9a0691ca3b",
   "metadata": {},
   "outputs": [
    {
     "name": "stdin",
     "output_type": "stream",
     "text": [
      "Введіть число:  5\n"
     ]
    },
    {
     "name": "stdout",
     "output_type": "stream",
     "text": [
      "120\n"
     ]
    }
   ],
   "source": [
    "def fac(n):\n",
    "    # Обчислення факторіала через рекурсію\n",
    "    if n == 0:\n",
    "        return 1\n",
    "    return fac(n - 1) * n\n",
    "\n",
    "n = int(input(\"Введіть число: \"))\n",
    "print(fac(n))\n"
   ]
  },
  {
   "cell_type": "code",
   "execution_count": 9,
   "id": "4affb3dd-1933-4a4a-8acd-5d4cbb011adf",
   "metadata": {},
   "outputs": [
    {
     "name": "stdout",
     "output_type": "stream",
     "text": [
      "832040\n"
     ]
    }
   ],
   "source": [
    "def fibonacci(n):\n",
    "    # Рекурсивне обчислення n-го числа Фібоначчі\n",
    "    if n == 0:\n",
    "        return 0\n",
    "    if n in (1, 2):\n",
    "        return 1\n",
    "    return fibonacci(n - 1) + fibonacci(n - 2)\n",
    "\n",
    "print(fibonacci(30))"
   ]
  },
  {
   "cell_type": "code",
   "execution_count": 11,
   "id": "c99aa4e9-3a8a-48a4-87b0-2a102111c0b8",
   "metadata": {},
   "outputs": [
    {
     "name": "stdout",
     "output_type": "stream",
     "text": [
      "[3, 9, 10, 27, 38, 43, 82]\n"
     ]
    }
   ],
   "source": [
    "def merge(left, right):\n",
    "    # Зливає два відсортованих масиви left і right у один\n",
    "    result = []\n",
    "    i, j = 0, 0\n",
    "    while i < len(left) and j < len(right):\n",
    "        if left[i] <= right[j]:\n",
    "            result.append(left[i])\n",
    "            i += 1\n",
    "        else:\n",
    "            result.append(right[j])\n",
    "            j += 1\n",
    "    result += left[i:]\n",
    "    result += right[j:]\n",
    "    return result\n",
    "\n",
    "def mergesort(lst):\n",
    "    # Рекурсивна функція сортування з використанням попередньої функції\n",
    "    if len(lst) < 2:\n",
    "        return lst\n",
    "    middle = len(lst) // 2\n",
    "    left = mergesort(lst[:middle])\n",
    "    right = mergesort(lst[middle:])\n",
    "    return merge(left, right)\n",
    "\n",
    "# Приклад виклику функції\n",
    "sample_list = [38, 27, 43, 3, 9, 82, 10]\n",
    "sorted_list = mergesort(sample_list)\n",
    "print(sorted_list)\n"
   ]
  },
  {
   "cell_type": "code",
   "execution_count": null,
   "id": "53a5960a-7901-4595-8f71-6bfd76176f8c",
   "metadata": {},
   "outputs": [],
   "source": []
  }
 ],
 "metadata": {
  "kernelspec": {
   "display_name": "anaconda-2022.05-py39",
   "language": "python",
   "name": "conda-env-anaconda-2022.05-py39-py"
  },
  "language_info": {
   "codemirror_mode": {
    "name": "ipython",
    "version": 3
   },
   "file_extension": ".py",
   "mimetype": "text/x-python",
   "name": "python",
   "nbconvert_exporter": "python",
   "pygments_lexer": "ipython3",
   "version": "3.9.12"
  }
 },
 "nbformat": 4,
 "nbformat_minor": 5
}
