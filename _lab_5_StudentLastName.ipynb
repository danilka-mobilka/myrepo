{
 "cells": [
  {
   "cell_type": "code",
   "execution_count": 25,
   "id": "f9c53f1b-fe58-4f05-9f67-9e6337aec1aa",
   "metadata": {},
   "outputs": [
    {
     "name": "stdin",
     "output_type": "stream",
     "text": [
      "Введіть шуканий елемент:  6\n"
     ]
    },
    {
     "name": "stdout",
     "output_type": "stream",
     "text": [
      "Елемент знайдено на позиції: 5\n"
     ]
    }
   ],
   "source": [
    "# Якщо елемент не буде знайдено, виводиться -1\n",
    "def linear_search(a_list, x):\n",
    "    i, length = 0, len(a_list)\n",
    "    while i < length and x != a_list[i]:\n",
    "        i += 1\n",
    "    return i if i < length else -1 \n",
    "\n",
    "# Приклад використання\n",
    "a_list = [1, 2, 3, 4, 5, 6, 7]\n",
    "search_item = int(input(\"Введіть шуканий елемент: \"))\n",
    "index = linear_search(a_list, search_item)\n",
    "\n",
    "if index != -1:\n",
    "    print(f\"Елемент знайдено на позиції: {index}\")\n",
    "else:\n",
    "    print(\"Елемент не знайдено\")\n"
   ]
  },
  {
   "cell_type": "code",
   "execution_count": 27,
   "id": "7edf20d4-80c8-4f8a-b2d2-1a641bef9b7b",
   "metadata": {},
   "outputs": [
    {
     "data": {
      "text/plain": [
       "-1"
      ]
     },
     "execution_count": 27,
     "metadata": {},
     "output_type": "execute_result"
    }
   ],
   "source": [
    "a = [32, 1, 3, 4, 2, 1]\n",
    "linear_search(a, search_item)"
   ]
  },
  {
   "cell_type": "code",
   "execution_count": 58,
   "id": "ed3bc040-92dc-43de-9e52-20adbedee755",
   "metadata": {},
   "outputs": [
    {
     "name": "stdin",
     "output_type": "stream",
     "text": [
      "Введіть шуканий елемент:  7\n"
     ]
    },
    {
     "name": "stdout",
     "output_type": "stream",
     "text": [
      "Елемент 7 знайдений на індексі 0.\n"
     ]
    }
   ],
   "source": [
    "def bin_search(a_list, x, left, right):\n",
    "    if left > right or len(a_list) == 0:\n",
    "        return -1  # елемент не знайдено\n",
    "    middle = (left + right) // 2\n",
    "    if a_list[middle] == x:\n",
    "        return middle  # елемент знайдено\n",
    "    elif a_list[middle] < x:\n",
    "        return bin_search(a_list, x, middle + 1, right)  # шукаємо праву половину\n",
    "    else:  # a_list[middle] > x\n",
    "        return bin_search(a_list, x, left, middle - 1)  # шукаємо ліву половину\n",
    "\n",
    "# Ініціалізація списку\n",
    "a = list(range(7, 21))\n",
    "\n",
    "# Введення елемента для пошуку\n",
    "search_item = int(input(\"Введіть шуканий елемент: \"))\n",
    "\n",
    "# Виклик функції пошуку\n",
    "result = bin_search(a, search_item, 0, len(a) - 1)\n",
    "\n",
    "# Виведення результату\n",
    "if result != -1:\n",
    "    print(f\"Елемент {search_item} знайдений на індексі {result}.\")\n",
    "else:\n",
    "    print(f\"Елемент {search_item} не знайдений в списку.\")\n"
   ]
  },
  {
   "cell_type": "code",
   "execution_count": null,
   "id": "edd4d172-7efd-4a23-9109-ea32fd37f8b9",
   "metadata": {},
   "outputs": [],
   "source": []
  }
 ],
 "metadata": {
  "kernelspec": {
   "display_name": "anaconda-2022.05-py39",
   "language": "python",
   "name": "conda-env-anaconda-2022.05-py39-py"
  },
  "language_info": {
   "codemirror_mode": {
    "name": "ipython",
    "version": 3
   },
   "file_extension": ".py",
   "mimetype": "text/x-python",
   "name": "python",
   "nbconvert_exporter": "python",
   "pygments_lexer": "ipython3",
   "version": "3.9.12"
  }
 },
 "nbformat": 4,
 "nbformat_minor": 5
}
